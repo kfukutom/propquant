{
 "cells": [
  {
   "cell_type": "markdown",
   "metadata": {},
   "source": [
    "### Disclaimer\n",
    "\n",
    "Copyright and other regulations surrounding programmatic gathering of data vary by website and jurisdiction. It is your responsibility to check all applicable laws and terms of use of any website or service before attempting any web harvesting or similar activities."
   ]
  },
  {
   "cell_type": "markdown",
   "metadata": {},
   "source": [
    "# Website Content Scraping\n",
    "\n",
    "Website content extraction is harder. Usually `html`/`javascript` knowledge is required.\n",
    "\n",
    "Some toolsets help in making things easier"
   ]
  },
  {
   "cell_type": "markdown",
   "metadata": {},
   "source": [
    "# Example 1 (simple): Table Data\n",
    "\n",
    "`pandas.read_html` is a killer app for table data harvesting\n",
    "\n",
    "<img src=\"assets/WikipediaTable-screenshot.png\" style=\"height: 500px\"/>"
   ]
  },
  {
   "cell_type": "code",
   "execution_count": null,
   "metadata": {
    "scrolled": true
   },
   "outputs": [],
   "source": [
    "import pandas as pd\n",
    "import requests\n",
    "\n",
    "url = 'https://en.wikipedia.org/wiki/List_of_countries_by_GDP_(nominal)'\n",
    "\n",
    "text = requests.get(url).text\n",
    "text"
   ]
  },
  {
   "cell_type": "code",
   "execution_count": null,
   "metadata": {
    "scrolled": false
   },
   "outputs": [],
   "source": [
    "tables = pd.read_html(url)\n",
    "\n",
    "print(\"Found {} tables in {}\".format(len(tables), url))"
   ]
  },
  {
   "cell_type": "code",
   "execution_count": null,
   "metadata": {
    "scrolled": false
   },
   "outputs": [],
   "source": [
    "tables[2]"
   ]
  },
  {
   "cell_type": "markdown",
   "metadata": {},
   "source": [
    "# Example 2 (normal): Static HTML Content Extraction\n",
    "\n",
    "https://www.jll.com.sg/ => `Properties` => `Office Properties`\n",
    "\n",
    "<img src=\"assets/PropertyInfo-screenshot.png\" style=\"height:500px\"/>"
   ]
  },
  {
   "cell_type": "code",
   "execution_count": null,
   "metadata": {
    "scrolled": true
   },
   "outputs": [],
   "source": [
    "import requests\n",
    "import lxml.html\n",
    "\n",
    "property_url = 'https://property.jll.com.sg/office-lease/singapore/raffles-place-and-vicinity/18-robinson-sgp-p-000ff3'\n",
    "\n",
    "html_text = requests.get(property_url).text\n",
    "html_text"
   ]
  },
  {
   "cell_type": "code",
   "execution_count": null,
   "metadata": {},
   "outputs": [],
   "source": [
    "root = lxml.html.fromstring(html_text)\n",
    "root"
   ]
  },
  {
   "cell_type": "code",
   "execution_count": null,
   "metadata": {},
   "outputs": [],
   "source": [
    "[e for e in root.iter() if e.get(\"class\") and 'Property--Details-Table' in e.get(\"class\")]"
   ]
  },
  {
   "cell_type": "code",
   "execution_count": null,
   "metadata": {},
   "outputs": [],
   "source": [
    "info_body_element = [e for e in root.iter() if e.get(\"class\") and 'Property--Details-Table' in e.get(\"class\")][0]\n",
    "info_body_element"
   ]
  },
  {
   "cell_type": "code",
   "execution_count": null,
   "metadata": {
    "scrolled": true
   },
   "outputs": [],
   "source": [
    "field_names = [e.text.strip() for e in info_body_element.iter() if e.tag == 'strong']\n",
    "field_names"
   ]
  },
  {
   "cell_type": "code",
   "execution_count": null,
   "metadata": {
    "scrolled": true
   },
   "outputs": [],
   "source": [
    "field_values = [e.text.strip() for e in info_body_element.iter() if e.tag == 'p']\n",
    "field_values"
   ]
  },
  {
   "cell_type": "code",
   "execution_count": null,
   "metadata": {},
   "outputs": [],
   "source": [
    "len(field_names) == len(field_values)"
   ]
  },
  {
   "cell_type": "code",
   "execution_count": null,
   "metadata": {},
   "outputs": [],
   "source": [
    "dict(zip(field_names, field_values))"
   ]
  },
  {
   "cell_type": "markdown",
   "metadata": {},
   "source": [
    "### Advanced Usage - xpath"
   ]
  },
  {
   "cell_type": "code",
   "execution_count": null,
   "metadata": {},
   "outputs": [],
   "source": [
    "root.xpath(\"//div[contains(@class, 'Property--Details-Table')]\")"
   ]
  },
  {
   "cell_type": "code",
   "execution_count": null,
   "metadata": {},
   "outputs": [],
   "source": [
    "root.xpath(\"//div[contains(@class, 'Property--Details-Table')]//strong\")"
   ]
  },
  {
   "cell_type": "markdown",
   "metadata": {},
   "source": [
    "## Let's compile a function to extract property information given a URL"
   ]
  },
  {
   "cell_type": "code",
   "execution_count": null,
   "metadata": {},
   "outputs": [],
   "source": [
    "import requests\n",
    "import lxml.html\n",
    "\n",
    "def get_property_info_jll(url):\n",
    "    html_text = requests.get(url).text\n",
    "    root = lxml.html.fromstring(html_text)\n",
    "    \n",
    "    field_names = root.xpath(\"//div[contains(@class, 'Property--Details-Table')]//strong/text()\")\n",
    "\n",
    "    field_values = root.xpath(\"//div[contains(@class, 'Property--Details-Table')]//p/text()\")\n",
    "\n",
    "    return dict(zip([f.strip() for f in field_names], [v.strip() for v in field_values]))\n",
    "    "
   ]
  },
  {
   "cell_type": "code",
   "execution_count": null,
   "metadata": {},
   "outputs": [],
   "source": [
    "get_property_info_jll(property_url)"
   ]
  },
  {
   "cell_type": "markdown",
   "metadata": {},
   "source": [
    "# Example 3 (hard): Dynamic Data \n",
    "\n",
    "\n",
    "Many websites provide data non-statically, for example, property listing websites. These dynamic data are downloaded to the browser via `dynamic rendering (of html)` or `javascript HTTP xhr` calls.\n",
    "\n",
    "\n",
    "<img src=\"assets/Craiglist-screenshot.png\" style=\"height:500px\" />"
   ]
  },
  {
   "cell_type": "code",
   "execution_count": null,
   "metadata": {
    "scrolled": true
   },
   "outputs": [],
   "source": [
    "import requests\n",
    "import lxml.html\n",
    "\n",
    "cg_url = 'https://newyork.craigslist.org/d/vacation-rentals/search/vac'\n",
    "\n",
    "headers = {\n",
    "  'User-Agent': 'Mozilla/5.0 (Macintosh; Intel Mac OS X 10_15_7) AppleWebKit/537.36 (KHTML, like Gecko) Chrome/94.0.4606.61 Safari/537.36'\n",
    "}\n",
    "\n",
    "listing_text = requests.get(cg_url, headers=headers).text\n",
    "listing_text"
   ]
  },
  {
   "cell_type": "code",
   "execution_count": null,
   "metadata": {},
   "outputs": [],
   "source": [
    "listing_root = lxml.html.fromstring(listing_text)\n",
    "listing_urls = listing_root.xpath('//li[@class=\"result-row\"]/a/@href')\n",
    "listing_urls"
   ]
  },
  {
   "cell_type": "code",
   "execution_count": null,
   "metadata": {
    "scrolled": true
   },
   "outputs": [],
   "source": [
    "detail_text = requests.get(listing_urls[0], headers=headers).text\n",
    "detail_description = ''.join(lxml.html.fromstring(detail_text).xpath(\"//section[@id='postingbody']/text()\")).strip()\n",
    "detail_description"
   ]
  },
  {
   "cell_type": "code",
   "execution_count": null,
   "metadata": {},
   "outputs": [],
   "source": []
  }
 ],
 "metadata": {
  "kernelspec": {
   "display_name": "Python 3 (ipykernel)",
   "language": "python",
   "name": "python3"
  },
  "language_info": {
   "codemirror_mode": {
    "name": "ipython",
    "version": 3
   },
   "file_extension": ".py",
   "mimetype": "text/x-python",
   "name": "python",
   "nbconvert_exporter": "python",
   "pygments_lexer": "ipython3",
   "version": "3.7.12"
  }
 },
 "nbformat": 4,
 "nbformat_minor": 4
}
