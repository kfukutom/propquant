{
 "cells": [
  {
   "cell_type": "markdown",
   "metadata": {},
   "source": [
    "### Disclaimer\n",
    "\n",
    "Copyright and other regulations surrounding programmatic gathering of data vary by website and jurisdiction. It is your responsibility to check all applicable laws and terms of use of any website or service before attempting any web harvesting or similar activities."
   ]
  },
  {
   "cell_type": "markdown",
   "metadata": {},
   "source": [
    "# Application Programming Interface (API)\n",
    "\n",
    "API usually refers to web based APIs\n",
    "\n",
    "Data vendor provide consistent interface for data requests thus significantly reduce costs and efforts for clients to retrieve and maintain data fetching.\n"
   ]
  },
  {
   "cell_type": "markdown",
   "metadata": {},
   "source": [
    "## Example - Singapore HDB Property Transactions\n",
    "\n",
    "<img src=\"assets/HDB-Resale-screenshot.png\" style=\"height: 400px\"/>\n",
    "\n",
    "Source: https://data.gov.sg/dataset/resale-flat-prices\n",
    "\n",
    "Example Request: https://data.gov.sg/api/action/datastore_search?resource_id=f1765b54-a209-4718-8d38-a39237f502b3&limit=5"
   ]
  },
  {
   "cell_type": "code",
   "execution_count": null,
   "metadata": {},
   "outputs": [],
   "source": [
    "import requests"
   ]
  },
  {
   "cell_type": "code",
   "execution_count": null,
   "metadata": {
    "scrolled": false
   },
   "outputs": [],
   "source": [
    "url = 'https://data.gov.sg/api/action/datastore_search?resource_id=f1765b54-a209-4718-8d38-a39237f502b3&limit=5'\n",
    "\n",
    "resp = requests.get(url)\n",
    "resp.text"
   ]
  },
  {
   "cell_type": "markdown",
   "metadata": {},
   "source": [
    "Response from the http request is `text` in `json` format.\n",
    "\n",
    "Parse the response data into python objects"
   ]
  },
  {
   "cell_type": "code",
   "execution_count": null,
   "metadata": {
    "scrolled": true
   },
   "outputs": [],
   "source": [
    "resp.json()"
   ]
  },
  {
   "cell_type": "code",
   "execution_count": null,
   "metadata": {
    "scrolled": true
   },
   "outputs": [],
   "source": [
    "import pandas as pd\n",
    "\n",
    "pd.DataFrame(resp.json()['result']['records'])"
   ]
  },
  {
   "cell_type": "markdown",
   "metadata": {},
   "source": [
    "# Example - US Census Data: Estimated Population\n",
    "\n",
    "Register an API key: http://api.census.gov/data/key_signup.html\n",
    "\n",
    "Geocoding: https://www.census.gov/geographies/reference-files/2019/demo/popest/2019-fips.html\n",
    "\n",
    "API explained: https://www.census.gov/data/developers/guidance/api-user-guide/query-examples.html\n",
    "\n",
    "Read example page: https://www.census.gov/data/developers/data-sets/popest-popproj/popest.html\n"
   ]
  },
  {
   "cell_type": "code",
   "execution_count": null,
   "metadata": {},
   "outputs": [],
   "source": [
    "import requests\n",
    "\n",
    "class CensusAPI_2019(object):\n",
    "    def __init__(self, api_key):\n",
    "        self.api_key = api_key\n",
    "    \n",
    "    def get_population(self, for_, in_=None, get_=['COUNTY','DATE_CODE','DATE_DESC','DENSITY','POP','NAME','STATE']):\n",
    "        url = 'https://api.census.gov/data/2019/pep/population?'\n",
    "        url += 'get={}'.format(','.join(get_))\n",
    "        url += '&for={}'.format(for_)\n",
    "        if in_:\n",
    "            url += '&in={}'.format(in_)\n",
    "        if self.api_key:\n",
    "            url += '&key={}'.format(self.api_key)\n",
    "        print(url)\n",
    "        return requests.get(url).json()\n"
   ]
  },
  {
   "cell_type": "code",
   "execution_count": null,
   "metadata": {},
   "outputs": [],
   "source": [
    "my_apikey = None\n",
    "\n",
    "data = CensusAPI_2019(my_apikey).get_population(for_='county:*', in_='state:36')\n",
    "\n",
    "data"
   ]
  },
  {
   "cell_type": "code",
   "execution_count": null,
   "metadata": {},
   "outputs": [],
   "source": [
    "import pandas as pd\n",
    "\n",
    "pd.DataFrame(data).T.set_index(0).T"
   ]
  },
  {
   "cell_type": "markdown",
   "metadata": {},
   "source": [
    "## Example - UK Land Registration House Price Index\n",
    "\n",
    "<img src=\"assets/UK-LandRegistry-screenshot.png\" style=\"height: 500px\"/>"
   ]
  },
  {
   "cell_type": "markdown",
   "metadata": {},
   "source": [
    "#### Step 1: Locate the API urls\n",
    "\n",
    "https://landregistry.data.gov.uk/   => `Price Index Data` => `details about the UKHPI data` => https://landregistry.data.gov.uk/app/doc/ukhpi"
   ]
  },
  {
   "cell_type": "markdown",
   "metadata": {},
   "source": [
    "#### Step 2: Download monthly csv file"
   ]
  },
  {
   "cell_type": "code",
   "execution_count": null,
   "metadata": {},
   "outputs": [],
   "source": [
    "import pandas as pd\n",
    "\n",
    "url = 'https://landregistry.data.gov.uk/data/ukhpi/region/england-and-wales/month/2020-03.csv'\n",
    "\n",
    "data = pd.read_csv(url)"
   ]
  },
  {
   "cell_type": "code",
   "execution_count": null,
   "metadata": {},
   "outputs": [],
   "source": [
    "data"
   ]
  },
  {
   "cell_type": "code",
   "execution_count": null,
   "metadata": {},
   "outputs": [],
   "source": [
    "data.T[0]['house price index']"
   ]
  },
  {
   "cell_type": "markdown",
   "metadata": {},
   "source": [
    "\n",
    "#### Step 3: Build a function to automate the process"
   ]
  },
  {
   "cell_type": "code",
   "execution_count": null,
   "metadata": {},
   "outputs": [],
   "source": [
    "import io\n",
    "import datetime\n",
    "import pandas as pd\n",
    "import requests\n",
    "\n",
    "def get_uk_monthly_hpi(region, year, month):\n",
    "    url = 'https://landregistry.data.gov.uk/data/ukhpi/region/{region}/month/{year}-{month:02d}.csv'.format(\n",
    "        region=region, year=year, month=month)\n",
    "    \n",
    "    data = pd.read_csv(url)\n",
    "    \n",
    "    return data.T[0]\n",
    "    "
   ]
  },
  {
   "cell_type": "code",
   "execution_count": null,
   "metadata": {
    "scrolled": true
   },
   "outputs": [],
   "source": [
    "get_uk_monthly_hpi('london', 2021, 1)"
   ]
  },
  {
   "cell_type": "code",
   "execution_count": null,
   "metadata": {
    "scrolled": true
   },
   "outputs": [],
   "source": [
    "london_hpi = {}\n",
    "\n",
    "for month in range(1,13):\n",
    "    london_hpi[datetime.date(2020, month, 1)] = get_uk_monthly_hpi('london', 2020, month)\n",
    "\n",
    "pd.DataFrame(london_hpi)"
   ]
  },
  {
   "cell_type": "code",
   "execution_count": null,
   "metadata": {},
   "outputs": [],
   "source": [
    "ax = pd.DataFrame(london_hpi).T['house price index'].plot(figsize=(14, 8), title=\"London House Price Index\")\n",
    "ax.set_xlabel(\"Period\")\n",
    "ax.set_ylabel(\"House Price Index\")"
   ]
  },
  {
   "cell_type": "code",
   "execution_count": null,
   "metadata": {},
   "outputs": [],
   "source": []
  },
  {
   "cell_type": "code",
   "execution_count": null,
   "metadata": {},
   "outputs": [],
   "source": []
  }
 ],
 "metadata": {
  "kernelspec": {
   "display_name": "Python 3 (ipykernel)",
   "language": "python",
   "name": "python3"
  },
  "language_info": {
   "codemirror_mode": {
    "name": "ipython",
    "version": 3
   },
   "file_extension": ".py",
   "mimetype": "text/x-python",
   "name": "python",
   "nbconvert_exporter": "python",
   "pygments_lexer": "ipython3",
   "version": "3.7.12"
  }
 },
 "nbformat": 4,
 "nbformat_minor": 4
}
